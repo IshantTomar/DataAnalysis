{
 "cells": [
  {
   "cell_type": "code",
   "execution_count": 26,
   "id": "782c014d-11b6-495c-98a3-89e6e9fb1318",
   "metadata": {},
   "outputs": [
    {
     "data": {
      "text/html": [
       "<div>\n",
       "<style scoped>\n",
       "    .dataframe tbody tr th:only-of-type {\n",
       "        vertical-align: middle;\n",
       "    }\n",
       "\n",
       "    .dataframe tbody tr th {\n",
       "        vertical-align: top;\n",
       "    }\n",
       "\n",
       "    .dataframe thead th {\n",
       "        text-align: right;\n",
       "    }\n",
       "</style>\n",
       "<table border=\"1\" class=\"dataframe\">\n",
       "  <thead>\n",
       "    <tr style=\"text-align: right;\">\n",
       "      <th></th>\n",
       "      <th>Genres</th>\n",
       "      <th>Title</th>\n",
       "    </tr>\n",
       "  </thead>\n",
       "  <tbody>\n",
       "    <tr>\n",
       "      <th>0</th>\n",
       "      <td>Action</td>\n",
       "      <td>Ziggurat (2012)</td>\n",
       "    </tr>\n",
       "    <tr>\n",
       "      <th>1</th>\n",
       "      <td>Auto Racing Sim</td>\n",
       "      <td>4X4 EVO 2</td>\n",
       "    </tr>\n",
       "    <tr>\n",
       "      <th>2</th>\n",
       "      <td>Auto Racing Sim</td>\n",
       "      <td>MotoGP 2 (2001)</td>\n",
       "    </tr>\n",
       "    <tr>\n",
       "      <th>3</th>\n",
       "      <td>Western RPG</td>\n",
       "      <td>Gothic 3</td>\n",
       "    </tr>\n",
       "    <tr>\n",
       "      <th>4</th>\n",
       "      <td>RPG</td>\n",
       "      <td>Siege Survival: Gloria Victis</td>\n",
       "    </tr>\n",
       "  </tbody>\n",
       "</table>\n",
       "</div>"
      ],
      "text/plain": [
       "            Genres                          Title\n",
       "0           Action                Ziggurat (2012)\n",
       "1  Auto Racing Sim                      4X4 EVO 2\n",
       "2  Auto Racing Sim                MotoGP 2 (2001)\n",
       "3      Western RPG                       Gothic 3\n",
       "4              RPG  Siege Survival: Gloria Victis"
      ]
     },
     "execution_count": 26,
     "metadata": {},
     "output_type": "execute_result"
    }
   ],
   "source": [
    "import pandas as pd \n",
    "games_data = pd.read_csv('D:/Coding/Python/Projects/DataAnalysis/Datasets/all_video_games(cleaned).csv/all_video_games(cleaned).csv')\n",
    "games_data[['Genres','Title']].head(5)"
   ]
  },
  {
   "cell_type": "markdown",
   "id": "2debab07-d793-4b7f-af15-ba856bb30684",
   "metadata": {},
   "source": [
    "# Series"
   ]
  },
  {
   "cell_type": "code",
   "execution_count": 27,
   "id": "329cf80d-9834-493a-a159-1e34893925f8",
   "metadata": {},
   "outputs": [
    {
     "data": {
      "text/plain": [
       "a    1\n",
       "b    2\n",
       "c    3\n",
       "dtype: int64"
      ]
     },
     "execution_count": 27,
     "metadata": {},
     "output_type": "execute_result"
    }
   ],
   "source": [
    "obj = pd.Series([1,2,3], index=['a','b','c'])\n",
    "obj"
   ]
  },
  {
   "cell_type": "code",
   "execution_count": 28,
   "id": "cb73e997-edd8-454c-a486-39bcd7904aca",
   "metadata": {},
   "outputs": [
    {
     "data": {
      "text/plain": [
       "np.int64(3)"
      ]
     },
     "execution_count": 28,
     "metadata": {},
     "output_type": "execute_result"
    }
   ],
   "source": [
    "obj['c']"
   ]
  },
  {
   "cell_type": "code",
   "execution_count": 29,
   "id": "69bd9f9b-c063-4890-99e1-47add08f3cd7",
   "metadata": {},
   "outputs": [
    {
     "data": {
      "text/plain": [
       "Number\n",
       "Minecraft    100\n",
       "MLBB         300\n",
       "LOL          200\n",
       "Name: Games, dtype: int64"
      ]
     },
     "execution_count": 29,
     "metadata": {},
     "output_type": "execute_result"
    }
   ],
   "source": [
    "data = {'Minecraft': 100, 'LOL': 200, 'MLBB': 300}\n",
    "data_series = pd.Series(data, index=['Minecraft','MLBB','LOL'])\n",
    "data_series.name = 'Games'\n",
    "data_series.index.name = 'Number'\n",
    "data_series "
   ]
  },
  {
   "cell_type": "code",
   "execution_count": 30,
   "id": "b6540df0-893c-49ee-8261-f998012e09c4",
   "metadata": {},
   "outputs": [],
   "source": [
    "edit = pd.Series([100,200,101,205,300,104])\n",
    "# df['population'] = edit\n",
    "# dfdf['country'] = ['UK','Spain','USA','UK', '', '']\n",
    "# df"
   ]
  },
  {
   "cell_type": "code",
   "execution_count": 34,
   "id": "2268caa1-0329-44e7-b298-4e862557ae61",
   "metadata": {},
   "outputs": [
    {
     "data": {
      "text/plain": [
       "array([False, False, False, False,  True])"
      ]
     },
     "execution_count": 34,
     "metadata": {},
     "output_type": "execute_result"
    }
   ],
   "source": [
    "ind1 = pd.Index([1,2,3,4,5])\n",
    "ind2 = pd.Index(['a','b','c','d',5])\n",
    "ind1.isin(ind2)"
   ]
  },
  {
   "cell_type": "code",
   "execution_count": 48,
   "id": "6c279360-27d5-450c-b44c-fd8b921bfbdc",
   "metadata": {},
   "outputs": [
    {
     "data": {
      "text/plain": [
       "0    NaN\n",
       "1      a\n",
       "2    NaN\n",
       "3      b\n",
       "4    NaN\n",
       "5    NaN\n",
       "dtype: object"
      ]
     },
     "execution_count": 48,
     "metadata": {},
     "output_type": "execute_result"
    }
   ],
   "source": [
    "obj = pd.Series(['a','b','c','d'], index=[1,3,6,9])\n",
    "obj.reindex(range(6))"
   ]
  },
  {
   "cell_type": "code",
   "execution_count": 49,
   "id": "41509ea9-1045-4019-8a3d-7395a3cb1e72",
   "metadata": {},
   "outputs": [
    {
     "data": {
      "text/plain": [
       "0    NaN\n",
       "1      a\n",
       "2      a\n",
       "3      b\n",
       "4      b\n",
       "5      b\n",
       "dtype: object"
      ]
     },
     "execution_count": 49,
     "metadata": {},
     "output_type": "execute_result"
    }
   ],
   "source": [
    "obj.reindex(range(6), method='ffill')"
   ]
  },
  {
   "cell_type": "code",
   "execution_count": null,
   "id": "7b80305c-3f9d-493a-957d-7decf5000290",
   "metadata": {},
   "outputs": [],
   "source": []
  }
 ],
 "metadata": {
  "kernelspec": {
   "display_name": "Python 3 (ipykernel)",
   "language": "python",
   "name": "python3"
  },
  "language_info": {
   "codemirror_mode": {
    "name": "ipython",
    "version": 3
   },
   "file_extension": ".py",
   "mimetype": "text/x-python",
   "name": "python",
   "nbconvert_exporter": "python",
   "pygments_lexer": "ipython3",
   "version": "3.13.1"
  }
 },
 "nbformat": 4,
 "nbformat_minor": 5
}
