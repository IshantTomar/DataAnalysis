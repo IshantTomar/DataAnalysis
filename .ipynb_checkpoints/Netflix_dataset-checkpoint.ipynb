{
 "cells": [
  {
   "cell_type": "code",
   "execution_count": 32,
   "id": "8060e44a-0b6a-4f24-b17b-f5740e340653",
   "metadata": {},
   "outputs": [
    {
     "data": {
      "text/html": [
       "<div>\n",
       "<style scoped>\n",
       "    .dataframe tbody tr th:only-of-type {\n",
       "        vertical-align: middle;\n",
       "    }\n",
       "\n",
       "    .dataframe tbody tr th {\n",
       "        vertical-align: top;\n",
       "    }\n",
       "\n",
       "    .dataframe thead th {\n",
       "        text-align: right;\n",
       "    }\n",
       "</style>\n",
       "<table border=\"1\" class=\"dataframe\">\n",
       "  <thead>\n",
       "    <tr style=\"text-align: right;\">\n",
       "      <th></th>\n",
       "      <th>show_id</th>\n",
       "      <th>type</th>\n",
       "      <th>title</th>\n",
       "      <th>director</th>\n",
       "      <th>cast</th>\n",
       "      <th>country</th>\n",
       "      <th>date_added</th>\n",
       "      <th>release_year</th>\n",
       "      <th>rating</th>\n",
       "      <th>duration</th>\n",
       "      <th>listed_in</th>\n",
       "      <th>description</th>\n",
       "    </tr>\n",
       "  </thead>\n",
       "  <tbody>\n",
       "    <tr>\n",
       "      <th>0</th>\n",
       "      <td>s1</td>\n",
       "      <td>Movie</td>\n",
       "      <td>Dick Johnson Is Dead</td>\n",
       "      <td>Kirsten Johnson</td>\n",
       "      <td>NaN</td>\n",
       "      <td>United States</td>\n",
       "      <td>September 25, 2021</td>\n",
       "      <td>2020</td>\n",
       "      <td>PG-13</td>\n",
       "      <td>90 min</td>\n",
       "      <td>Documentaries</td>\n",
       "      <td>As her father nears the end of his life, filmm...</td>\n",
       "    </tr>\n",
       "    <tr>\n",
       "      <th>1</th>\n",
       "      <td>s2</td>\n",
       "      <td>TV Show</td>\n",
       "      <td>Blood &amp; Water</td>\n",
       "      <td>NaN</td>\n",
       "      <td>Ama Qamata, Khosi Ngema, Gail Mabalane, Thaban...</td>\n",
       "      <td>South Africa</td>\n",
       "      <td>September 24, 2021</td>\n",
       "      <td>2021</td>\n",
       "      <td>TV-MA</td>\n",
       "      <td>2 Seasons</td>\n",
       "      <td>International TV Shows, TV Dramas, TV Mysteries</td>\n",
       "      <td>After crossing paths at a party, a Cape Town t...</td>\n",
       "    </tr>\n",
       "    <tr>\n",
       "      <th>2</th>\n",
       "      <td>s3</td>\n",
       "      <td>TV Show</td>\n",
       "      <td>Ganglands</td>\n",
       "      <td>Julien Leclercq</td>\n",
       "      <td>Sami Bouajila, Tracy Gotoas, Samuel Jouy, Nabi...</td>\n",
       "      <td>NaN</td>\n",
       "      <td>September 24, 2021</td>\n",
       "      <td>2021</td>\n",
       "      <td>TV-MA</td>\n",
       "      <td>1 Season</td>\n",
       "      <td>Crime TV Shows, International TV Shows, TV Act...</td>\n",
       "      <td>To protect his family from a powerful drug lor...</td>\n",
       "    </tr>\n",
       "    <tr>\n",
       "      <th>3</th>\n",
       "      <td>s4</td>\n",
       "      <td>TV Show</td>\n",
       "      <td>Jailbirds New Orleans</td>\n",
       "      <td>NaN</td>\n",
       "      <td>NaN</td>\n",
       "      <td>NaN</td>\n",
       "      <td>September 24, 2021</td>\n",
       "      <td>2021</td>\n",
       "      <td>TV-MA</td>\n",
       "      <td>1 Season</td>\n",
       "      <td>Docuseries, Reality TV</td>\n",
       "      <td>Feuds, flirtations and toilet talk go down amo...</td>\n",
       "    </tr>\n",
       "    <tr>\n",
       "      <th>4</th>\n",
       "      <td>s5</td>\n",
       "      <td>TV Show</td>\n",
       "      <td>Kota Factory</td>\n",
       "      <td>NaN</td>\n",
       "      <td>Mayur More, Jitendra Kumar, Ranjan Raj, Alam K...</td>\n",
       "      <td>India</td>\n",
       "      <td>September 24, 2021</td>\n",
       "      <td>2021</td>\n",
       "      <td>TV-MA</td>\n",
       "      <td>2 Seasons</td>\n",
       "      <td>International TV Shows, Romantic TV Shows, TV ...</td>\n",
       "      <td>In a city of coaching centers known to train I...</td>\n",
       "    </tr>\n",
       "    <tr>\n",
       "      <th>...</th>\n",
       "      <td>...</td>\n",
       "      <td>...</td>\n",
       "      <td>...</td>\n",
       "      <td>...</td>\n",
       "      <td>...</td>\n",
       "      <td>...</td>\n",
       "      <td>...</td>\n",
       "      <td>...</td>\n",
       "      <td>...</td>\n",
       "      <td>...</td>\n",
       "      <td>...</td>\n",
       "      <td>...</td>\n",
       "    </tr>\n",
       "    <tr>\n",
       "      <th>8802</th>\n",
       "      <td>s8803</td>\n",
       "      <td>Movie</td>\n",
       "      <td>Zodiac</td>\n",
       "      <td>David Fincher</td>\n",
       "      <td>Mark Ruffalo, Jake Gyllenhaal, Robert Downey J...</td>\n",
       "      <td>United States</td>\n",
       "      <td>November 20, 2019</td>\n",
       "      <td>2007</td>\n",
       "      <td>R</td>\n",
       "      <td>158 min</td>\n",
       "      <td>Cult Movies, Dramas, Thrillers</td>\n",
       "      <td>A political cartoonist, a crime reporter and a...</td>\n",
       "    </tr>\n",
       "    <tr>\n",
       "      <th>8803</th>\n",
       "      <td>s8804</td>\n",
       "      <td>TV Show</td>\n",
       "      <td>Zombie Dumb</td>\n",
       "      <td>NaN</td>\n",
       "      <td>NaN</td>\n",
       "      <td>NaN</td>\n",
       "      <td>July 1, 2019</td>\n",
       "      <td>2018</td>\n",
       "      <td>TV-Y7</td>\n",
       "      <td>2 Seasons</td>\n",
       "      <td>Kids' TV, Korean TV Shows, TV Comedies</td>\n",
       "      <td>While living alone in a spooky town, a young g...</td>\n",
       "    </tr>\n",
       "    <tr>\n",
       "      <th>8804</th>\n",
       "      <td>s8805</td>\n",
       "      <td>Movie</td>\n",
       "      <td>Zombieland</td>\n",
       "      <td>Ruben Fleischer</td>\n",
       "      <td>Jesse Eisenberg, Woody Harrelson, Emma Stone, ...</td>\n",
       "      <td>United States</td>\n",
       "      <td>November 1, 2019</td>\n",
       "      <td>2009</td>\n",
       "      <td>R</td>\n",
       "      <td>88 min</td>\n",
       "      <td>Comedies, Horror Movies</td>\n",
       "      <td>Looking to survive in a world taken over by zo...</td>\n",
       "    </tr>\n",
       "    <tr>\n",
       "      <th>8805</th>\n",
       "      <td>s8806</td>\n",
       "      <td>Movie</td>\n",
       "      <td>Zoom</td>\n",
       "      <td>Peter Hewitt</td>\n",
       "      <td>Tim Allen, Courteney Cox, Chevy Chase, Kate Ma...</td>\n",
       "      <td>United States</td>\n",
       "      <td>January 11, 2020</td>\n",
       "      <td>2006</td>\n",
       "      <td>PG</td>\n",
       "      <td>88 min</td>\n",
       "      <td>Children &amp; Family Movies, Comedies</td>\n",
       "      <td>Dragged from civilian life, a former superhero...</td>\n",
       "    </tr>\n",
       "    <tr>\n",
       "      <th>8806</th>\n",
       "      <td>s8807</td>\n",
       "      <td>Movie</td>\n",
       "      <td>Zubaan</td>\n",
       "      <td>Mozez Singh</td>\n",
       "      <td>Vicky Kaushal, Sarah-Jane Dias, Raaghav Chanan...</td>\n",
       "      <td>India</td>\n",
       "      <td>March 2, 2019</td>\n",
       "      <td>2015</td>\n",
       "      <td>TV-14</td>\n",
       "      <td>111 min</td>\n",
       "      <td>Dramas, International Movies, Music &amp; Musicals</td>\n",
       "      <td>A scrappy but poor boy worms his way into a ty...</td>\n",
       "    </tr>\n",
       "  </tbody>\n",
       "</table>\n",
       "<p>8807 rows × 12 columns</p>\n",
       "</div>"
      ],
      "text/plain": [
       "     show_id     type                  title         director  \\\n",
       "0         s1    Movie   Dick Johnson Is Dead  Kirsten Johnson   \n",
       "1         s2  TV Show          Blood & Water              NaN   \n",
       "2         s3  TV Show              Ganglands  Julien Leclercq   \n",
       "3         s4  TV Show  Jailbirds New Orleans              NaN   \n",
       "4         s5  TV Show           Kota Factory              NaN   \n",
       "...      ...      ...                    ...              ...   \n",
       "8802   s8803    Movie                 Zodiac    David Fincher   \n",
       "8803   s8804  TV Show            Zombie Dumb              NaN   \n",
       "8804   s8805    Movie             Zombieland  Ruben Fleischer   \n",
       "8805   s8806    Movie                   Zoom     Peter Hewitt   \n",
       "8806   s8807    Movie                 Zubaan      Mozez Singh   \n",
       "\n",
       "                                                   cast        country  \\\n",
       "0                                                   NaN  United States   \n",
       "1     Ama Qamata, Khosi Ngema, Gail Mabalane, Thaban...   South Africa   \n",
       "2     Sami Bouajila, Tracy Gotoas, Samuel Jouy, Nabi...            NaN   \n",
       "3                                                   NaN            NaN   \n",
       "4     Mayur More, Jitendra Kumar, Ranjan Raj, Alam K...          India   \n",
       "...                                                 ...            ...   \n",
       "8802  Mark Ruffalo, Jake Gyllenhaal, Robert Downey J...  United States   \n",
       "8803                                                NaN            NaN   \n",
       "8804  Jesse Eisenberg, Woody Harrelson, Emma Stone, ...  United States   \n",
       "8805  Tim Allen, Courteney Cox, Chevy Chase, Kate Ma...  United States   \n",
       "8806  Vicky Kaushal, Sarah-Jane Dias, Raaghav Chanan...          India   \n",
       "\n",
       "              date_added  release_year rating   duration  \\\n",
       "0     September 25, 2021          2020  PG-13     90 min   \n",
       "1     September 24, 2021          2021  TV-MA  2 Seasons   \n",
       "2     September 24, 2021          2021  TV-MA   1 Season   \n",
       "3     September 24, 2021          2021  TV-MA   1 Season   \n",
       "4     September 24, 2021          2021  TV-MA  2 Seasons   \n",
       "...                  ...           ...    ...        ...   \n",
       "8802   November 20, 2019          2007      R    158 min   \n",
       "8803        July 1, 2019          2018  TV-Y7  2 Seasons   \n",
       "8804    November 1, 2019          2009      R     88 min   \n",
       "8805    January 11, 2020          2006     PG     88 min   \n",
       "8806       March 2, 2019          2015  TV-14    111 min   \n",
       "\n",
       "                                              listed_in  \\\n",
       "0                                         Documentaries   \n",
       "1       International TV Shows, TV Dramas, TV Mysteries   \n",
       "2     Crime TV Shows, International TV Shows, TV Act...   \n",
       "3                                Docuseries, Reality TV   \n",
       "4     International TV Shows, Romantic TV Shows, TV ...   \n",
       "...                                                 ...   \n",
       "8802                     Cult Movies, Dramas, Thrillers   \n",
       "8803             Kids' TV, Korean TV Shows, TV Comedies   \n",
       "8804                            Comedies, Horror Movies   \n",
       "8805                 Children & Family Movies, Comedies   \n",
       "8806     Dramas, International Movies, Music & Musicals   \n",
       "\n",
       "                                            description  \n",
       "0     As her father nears the end of his life, filmm...  \n",
       "1     After crossing paths at a party, a Cape Town t...  \n",
       "2     To protect his family from a powerful drug lor...  \n",
       "3     Feuds, flirtations and toilet talk go down amo...  \n",
       "4     In a city of coaching centers known to train I...  \n",
       "...                                                 ...  \n",
       "8802  A political cartoonist, a crime reporter and a...  \n",
       "8803  While living alone in a spooky town, a young g...  \n",
       "8804  Looking to survive in a world taken over by zo...  \n",
       "8805  Dragged from civilian life, a former superhero...  \n",
       "8806  A scrappy but poor boy worms his way into a ty...  \n",
       "\n",
       "[8807 rows x 12 columns]"
      ]
     },
     "execution_count": 32,
     "metadata": {},
     "output_type": "execute_result"
    }
   ],
   "source": [
    "import pandas as pd\n",
    "import os\n",
    "# Load Netflix dataset\n",
    "data = pd.read_csv(\"C:/Users/purni/Desktop/Netflix/netflix_titles.csv\")\n",
    "data"
   ]
  },
  {
   "cell_type": "code",
   "execution_count": 14,
   "id": "1a63e4af-9024-423d-a728-d47d0d6ae1c3",
   "metadata": {},
   "outputs": [
    {
     "name": "stdout",
     "output_type": "stream",
     "text": [
      "['.ipynb_checkpoints', 'netflix_titles.csv', 'Untitled.ipynb']\n"
     ]
    }
   ],
   "source": [
    "import os\n",
    "print(os.listdir('C:/Users/purni/Desktop/Netflix'))"
   ]
  },
  {
   "cell_type": "code",
   "execution_count": 34,
   "id": "c0aba944-55e5-4f50-bd5c-f068c63fc807",
   "metadata": {},
   "outputs": [
    {
     "data": {
      "text/plain": [
       "pandas.core.series.Series"
      ]
     },
     "execution_count": 34,
     "metadata": {},
     "output_type": "execute_result"
    }
   ],
   "source": [
    "type(data[ 'title' ])"
   ]
  },
  {
   "cell_type": "code",
   "execution_count": 37,
   "id": "9bcc0615-1336-428f-8c18-f7b6b27a1338",
   "metadata": {},
   "outputs": [
    {
     "name": "stdout",
     "output_type": "stream",
     "text": [
      "0     Dick Johnson Is Dead\n",
      "1            Blood & Water\n",
      "2                Ganglands\n",
      "3    Jailbirds New Orleans\n",
      "4             Kota Factory\n",
      "Name: title, dtype: object\n"
     ]
    }
   ],
   "source": [
    "#Example series from a column\n",
    "series = data[\"title\"]\n",
    "print(series.head())"
   ]
  },
  {
   "cell_type": "code",
   "execution_count": 38,
   "id": "1cb79e8d-e1b7-4f0f-8d48-0ca907586cf0",
   "metadata": {},
   "outputs": [
    {
     "name": "stdout",
     "output_type": "stream",
     "text": [
      "  show_id     type                  title         director  \\\n",
      "0      s1    Movie   Dick Johnson Is Dead  Kirsten Johnson   \n",
      "1      s2  TV Show          Blood & Water              NaN   \n",
      "2      s3  TV Show              Ganglands  Julien Leclercq   \n",
      "3      s4  TV Show  Jailbirds New Orleans              NaN   \n",
      "4      s5  TV Show           Kota Factory              NaN   \n",
      "\n",
      "                                                cast        country  \\\n",
      "0                                                NaN  United States   \n",
      "1  Ama Qamata, Khosi Ngema, Gail Mabalane, Thaban...   South Africa   \n",
      "2  Sami Bouajila, Tracy Gotoas, Samuel Jouy, Nabi...            NaN   \n",
      "3                                                NaN            NaN   \n",
      "4  Mayur More, Jitendra Kumar, Ranjan Raj, Alam K...          India   \n",
      "\n",
      "           date_added  release_year rating   duration  \\\n",
      "0  September 25, 2021          2020  PG-13     90 min   \n",
      "1  September 24, 2021          2021  TV-MA  2 Seasons   \n",
      "2  September 24, 2021          2021  TV-MA   1 Season   \n",
      "3  September 24, 2021          2021  TV-MA   1 Season   \n",
      "4  September 24, 2021          2021  TV-MA  2 Seasons   \n",
      "\n",
      "                                           listed_in  \\\n",
      "0                                      Documentaries   \n",
      "1    International TV Shows, TV Dramas, TV Mysteries   \n",
      "2  Crime TV Shows, International TV Shows, TV Act...   \n",
      "3                             Docuseries, Reality TV   \n",
      "4  International TV Shows, Romantic TV Shows, TV ...   \n",
      "\n",
      "                                         description  \n",
      "0  As her father nears the end of his life, filmm...  \n",
      "1  After crossing paths at a party, a Cape Town t...  \n",
      "2  To protect his family from a powerful drug lor...  \n",
      "3  Feuds, flirtations and toilet talk go down amo...  \n",
      "4  In a city of coaching centers known to train I...  \n"
     ]
    }
   ],
   "source": [
    "# Display first 5 rows\n",
    "print(data.head())"
   ]
  },
  {
   "cell_type": "code",
   "execution_count": 81,
   "id": "2a640afc-7dd1-4776-a1a8-59a6b40e1c55",
   "metadata": {},
   "outputs": [
    {
     "name": "stdout",
     "output_type": "stream",
     "text": [
      "     show_id     type        title         director  \\\n",
      "8802   s8803    Movie       Zodiac    David Fincher   \n",
      "8803   s8804  TV Show  Zombie Dumb              NaN   \n",
      "8804   s8805    Movie   Zombieland  Ruben Fleischer   \n",
      "8805   s8806    Movie         Zoom     Peter Hewitt   \n",
      "8806   s8807    Movie       Zubaan      Mozez Singh   \n",
      "\n",
      "                                                   cast        country  \\\n",
      "8802  Mark Ruffalo, Jake Gyllenhaal, Robert Downey J...  United States   \n",
      "8803                                                NaN            NaN   \n",
      "8804  Jesse Eisenberg, Woody Harrelson, Emma Stone, ...  United States   \n",
      "8805  Tim Allen, Courteney Cox, Chevy Chase, Kate Ma...  United States   \n",
      "8806  Vicky Kaushal, Sarah-Jane Dias, Raaghav Chanan...          India   \n",
      "\n",
      "             date_added  release_year rating   duration  \\\n",
      "8802  November 20, 2019          2007      R    158 min   \n",
      "8803       July 1, 2019          2018  TV-Y7  2 Seasons   \n",
      "8804   November 1, 2019          2009      R     88 min   \n",
      "8805   January 11, 2020          2006     PG     88 min   \n",
      "8806      March 2, 2019          2015  TV-14    111 min   \n",
      "\n",
      "                                           listed_in  \\\n",
      "8802                  Cult Movies, Dramas, Thrillers   \n",
      "8803          Kids' TV, Korean TV Shows, TV Comedies   \n",
      "8804                         Comedies, Horror Movies   \n",
      "8805              Children & Family Movies, Comedies   \n",
      "8806  Dramas, International Movies, Music & Musicals   \n",
      "\n",
      "                                            description  rating_value  \\\n",
      "8802  A political cartoonist, a crime reporter and a...            10   \n",
      "8803  While living alone in a spooky town, a young g...            10   \n",
      "8804  Looking to survive in a world taken over by zo...            10   \n",
      "8805  Dragged from civilian life, a former superhero...            10   \n",
      "8806  A scrappy but poor boy worms his way into a ty...            10   \n",
      "\n",
      "      title_upper  year_rank  \n",
      "8802       ZODIAC     7761.0  \n",
      "8803  ZOMBIE DUMB     2576.0  \n",
      "8804   ZOMBIELAND     7473.0  \n",
      "8805         ZOOM     7849.0  \n",
      "8806       ZUBAAN     5657.0  \n"
     ]
    }
   ],
   "source": [
    "# Display last 5 rows\n",
    "print(data.tail())"
   ]
  },
  {
   "cell_type": "code",
   "execution_count": 83,
   "id": "557512d1-cf6b-49db-a6eb-8238d8d5506f",
   "metadata": {},
   "outputs": [
    {
     "data": {
      "text/html": [
       "<div>\n",
       "<style scoped>\n",
       "    .dataframe tbody tr th:only-of-type {\n",
       "        vertical-align: middle;\n",
       "    }\n",
       "\n",
       "    .dataframe tbody tr th {\n",
       "        vertical-align: top;\n",
       "    }\n",
       "\n",
       "    .dataframe thead th {\n",
       "        text-align: right;\n",
       "    }\n",
       "</style>\n",
       "<table border=\"1\" class=\"dataframe\">\n",
       "  <thead>\n",
       "    <tr style=\"text-align: right;\">\n",
       "      <th></th>\n",
       "      <th>title</th>\n",
       "    </tr>\n",
       "  </thead>\n",
       "  <tbody>\n",
       "    <tr>\n",
       "      <th>8802</th>\n",
       "      <td>Zodiac</td>\n",
       "    </tr>\n",
       "    <tr>\n",
       "      <th>8803</th>\n",
       "      <td>Zombie Dumb</td>\n",
       "    </tr>\n",
       "    <tr>\n",
       "      <th>8804</th>\n",
       "      <td>Zombieland</td>\n",
       "    </tr>\n",
       "    <tr>\n",
       "      <th>8805</th>\n",
       "      <td>Zoom</td>\n",
       "    </tr>\n",
       "    <tr>\n",
       "      <th>8806</th>\n",
       "      <td>Zubaan</td>\n",
       "    </tr>\n",
       "  </tbody>\n",
       "</table>\n",
       "</div>"
      ],
      "text/plain": [
       "            title\n",
       "8802       Zodiac\n",
       "8803  Zombie Dumb\n",
       "8804   Zombieland\n",
       "8805         Zoom\n",
       "8806       Zubaan"
      ]
     },
     "execution_count": 83,
     "metadata": {},
     "output_type": "execute_result"
    }
   ],
   "source": [
    "(data[ ['title'] ]).tail()"
   ]
  },
  {
   "cell_type": "code",
   "execution_count": 39,
   "id": "209c0f01-d29e-465e-b245-9f029b3a45f7",
   "metadata": {},
   "outputs": [
    {
     "name": "stdout",
     "output_type": "stream",
     "text": [
      "RangeIndex(start=0, stop=8807, step=1)\n"
     ]
    }
   ],
   "source": [
    "# Display index of dataset\n",
    "print(data.index)"
   ]
  },
  {
   "cell_type": "code",
   "execution_count": 42,
   "id": "b1cfa322-f7a1-4731-84d8-7af83579ef49",
   "metadata": {},
   "outputs": [
    {
     "name": "stdout",
     "output_type": "stream",
     "text": [
      "     show_id     type        title         director  \\\n",
      "8806   s8807    Movie       Zubaan      Mozez Singh   \n",
      "8805   s8806    Movie         Zoom     Peter Hewitt   \n",
      "8804   s8805    Movie   Zombieland  Ruben Fleischer   \n",
      "8803   s8804  TV Show  Zombie Dumb              NaN   \n",
      "8802   s8803    Movie       Zodiac    David Fincher   \n",
      "\n",
      "                                                   cast        country  \\\n",
      "8806  Vicky Kaushal, Sarah-Jane Dias, Raaghav Chanan...          India   \n",
      "8805  Tim Allen, Courteney Cox, Chevy Chase, Kate Ma...  United States   \n",
      "8804  Jesse Eisenberg, Woody Harrelson, Emma Stone, ...  United States   \n",
      "8803                                                NaN            NaN   \n",
      "8802  Mark Ruffalo, Jake Gyllenhaal, Robert Downey J...  United States   \n",
      "\n",
      "             date_added  release_year rating   duration  \\\n",
      "8806      March 2, 2019          2015  TV-14    111 min   \n",
      "8805   January 11, 2020          2006     PG     88 min   \n",
      "8804   November 1, 2019          2009      R     88 min   \n",
      "8803       July 1, 2019          2018  TV-Y7  2 Seasons   \n",
      "8802  November 20, 2019          2007      R    158 min   \n",
      "\n",
      "                                           listed_in  \\\n",
      "8806  Dramas, International Movies, Music & Musicals   \n",
      "8805              Children & Family Movies, Comedies   \n",
      "8804                         Comedies, Horror Movies   \n",
      "8803          Kids' TV, Korean TV Shows, TV Comedies   \n",
      "8802                  Cult Movies, Dramas, Thrillers   \n",
      "\n",
      "                                            description  \n",
      "8806  A scrappy but poor boy worms his way into a ty...  \n",
      "8805  Dragged from civilian life, a former superhero...  \n",
      "8804  Looking to survive in a world taken over by zo...  \n",
      "8803  While living alone in a spooky town, a young g...  \n",
      "8802  A political cartoonist, a crime reporter and a...  \n"
     ]
    }
   ],
   "source": [
    "# Reindexing with shuffled indicates\n",
    "new_index = list(reversed(data.index))\n",
    "data_reindexed = data.reindex(new_index)\n",
    "print(data_reindexed.head())"
   ]
  },
  {
   "cell_type": "code",
   "execution_count": 71,
   "id": "3a2ee160-3a1e-4ba9-b85e-4982670d14df",
   "metadata": {},
   "outputs": [
    {
     "name": "stdout",
     "output_type": "stream",
     "text": [
      "  show_id     type                  title         director  \\\n",
      "0      s1    Movie   Dick Johnson Is Dead  Kirsten Johnson   \n",
      "1      s2  TV Show          Blood & Water              NaN   \n",
      "2      s3  TV Show              Ganglands  Julien Leclercq   \n",
      "3      s4  TV Show  Jailbirds New Orleans              NaN   \n",
      "4      s5  TV Show           Kota Factory              NaN   \n",
      "\n",
      "                                                cast        country  \\\n",
      "0                                                NaN  United States   \n",
      "1  Ama Qamata, Khosi Ngema, Gail Mabalane, Thaban...   South Africa   \n",
      "2  Sami Bouajila, Tracy Gotoas, Samuel Jouy, Nabi...            NaN   \n",
      "3                                                NaN            NaN   \n",
      "4  Mayur More, Jitendra Kumar, Ranjan Raj, Alam K...          India   \n",
      "\n",
      "           date_added  release_year rating   duration  \\\n",
      "0  September 25, 2021          2020  PG-13     90 min   \n",
      "1  September 24, 2021          2021  TV-MA  2 Seasons   \n",
      "2  September 24, 2021          2021  TV-MA   1 Season   \n",
      "3  September 24, 2021          2021  TV-MA   1 Season   \n",
      "4  September 24, 2021          2021  TV-MA  2 Seasons   \n",
      "\n",
      "                                           listed_in  rating_value  \\\n",
      "0                                      Documentaries            10   \n",
      "1    International TV Shows, TV Dramas, TV Mysteries            10   \n",
      "2  Crime TV Shows, International TV Shows, TV Act...            10   \n",
      "3                             Docuseries, Reality TV            10   \n",
      "4  International TV Shows, Romantic TV Shows, TV ...            10   \n",
      "\n",
      "             title_upper  \n",
      "0   DICK JOHNSON IS DEAD  \n",
      "1          BLOOD & WATER  \n",
      "2              GANGLANDS  \n",
      "3  JAILBIRDS NEW ORLEANS  \n",
      "4           KOTA FACTORY  \n"
     ]
    }
   ],
   "source": [
    "# Dropping a columns\n",
    "data_dropped = data.drop(columns=[\"description\"])\n",
    "print(data_dropped.head())"
   ]
  },
  {
   "cell_type": "code",
   "execution_count": 69,
   "id": "d74d88bf-3a71-498a-9a94-de8504689908",
   "metadata": {},
   "outputs": [
    {
     "name": "stdout",
     "output_type": "stream",
     "text": [
      "  show_id     type                  title         director  \\\n",
      "0      s1    Movie   Dick Johnson Is Dead  Kirsten Johnson   \n",
      "1      s2  TV Show          Blood & Water              NaN   \n",
      "2      s3  TV Show              Ganglands  Julien Leclercq   \n",
      "3      s4  TV Show  Jailbirds New Orleans              NaN   \n",
      "4      s5  TV Show           Kota Factory              NaN   \n",
      "\n",
      "                                                cast        country  \\\n",
      "0                                                NaN  United States   \n",
      "1  Ama Qamata, Khosi Ngema, Gail Mabalane, Thaban...   South Africa   \n",
      "2  Sami Bouajila, Tracy Gotoas, Samuel Jouy, Nabi...            NaN   \n",
      "3                                                NaN            NaN   \n",
      "4  Mayur More, Jitendra Kumar, Ranjan Raj, Alam K...          India   \n",
      "\n",
      "           date_added  release_year rating   duration  \\\n",
      "0  September 25, 2021          2020  PG-13     90 min   \n",
      "1  September 24, 2021          2021  TV-MA  2 Seasons   \n",
      "2  September 24, 2021          2021  TV-MA   1 Season   \n",
      "3  September 24, 2021          2021  TV-MA   1 Season   \n",
      "4  September 24, 2021          2021  TV-MA  2 Seasons   \n",
      "\n",
      "                                           listed_in  rating_value  \\\n",
      "0                                      Documentaries            10   \n",
      "1    International TV Shows, TV Dramas, TV Mysteries            10   \n",
      "2  Crime TV Shows, International TV Shows, TV Act...            10   \n",
      "3                             Docuseries, Reality TV            10   \n",
      "4  International TV Shows, Romantic TV Shows, TV ...            10   \n",
      "\n",
      "             title_upper  \n",
      "0   DICK JOHNSON IS DEAD  \n",
      "1          BLOOD & WATER  \n",
      "2              GANGLANDS  \n",
      "3  JAILBIRDS NEW ORLEANS  \n",
      "4           KOTA FACTORY  \n"
     ]
    }
   ],
   "source": [
    "# Dropping a columns\n",
    "data_dropped = data.drop(columns=[\"description\"])\n",
    "print(data_dropped.head())"
   ]
  },
  {
   "cell_type": "code",
   "execution_count": 55,
   "id": "2ba4bffb-dd6e-4d68-afb0-b5ce64b19cff",
   "metadata": {},
   "outputs": [
    {
     "name": "stdout",
     "output_type": "stream",
     "text": [
      "   show_id   type                             title  \\\n",
      "0       s1  Movie              Dick Johnson Is Dead   \n",
      "6       s7  Movie  My Little Pony: A New Generation   \n",
      "7       s8  Movie                           Sankofa   \n",
      "9      s10  Movie                      The Starling   \n",
      "12     s13  Movie                      Je Suis Karl   \n",
      "\n",
      "                         director  \\\n",
      "0                 Kirsten Johnson   \n",
      "6   Robert Cullen, José Luis Ucha   \n",
      "7                    Haile Gerima   \n",
      "9                  Theodore Melfi   \n",
      "12            Christian Schwochow   \n",
      "\n",
      "                                                 cast  \\\n",
      "0                                                 NaN   \n",
      "6   Vanessa Hudgens, Kimiko Glenn, James Marsden, ...   \n",
      "7   Kofi Ghanaba, Oyafunmike Ogunlano, Alexandra D...   \n",
      "9   Melissa McCarthy, Chris O'Dowd, Kevin Kline, T...   \n",
      "12  Luna Wedler, Jannis Niewöhner, Milan Peschel, ...   \n",
      "\n",
      "                                              country          date_added  \\\n",
      "0                                       United States  September 25, 2021   \n",
      "6                                                 NaN  September 24, 2021   \n",
      "7   United States, Ghana, Burkina Faso, United Kin...  September 24, 2021   \n",
      "9                                       United States  September 24, 2021   \n",
      "12                            Germany, Czech Republic  September 23, 2021   \n",
      "\n",
      "    release_year rating duration  \\\n",
      "0           2020  PG-13   90 min   \n",
      "6           2021     PG   91 min   \n",
      "7           1993  TV-MA  125 min   \n",
      "9           2021  PG-13  104 min   \n",
      "12          2021  TV-MA  127 min   \n",
      "\n",
      "                                           listed_in  \\\n",
      "0                                      Documentaries   \n",
      "6                           Children & Family Movies   \n",
      "7   Dramas, Independent Movies, International Movies   \n",
      "9                                   Comedies, Dramas   \n",
      "12                      Dramas, International Movies   \n",
      "\n",
      "                                          description  \n",
      "0   As her father nears the end of his life, filmm...  \n",
      "6   Equestria's divided. But a bright-eyed hero be...  \n",
      "7   On a photo shoot in Ghana, an American model s...  \n",
      "9   A woman adjusting to life after a loss contend...  \n",
      "12  After most of her family is murdered in a terr...  \n"
     ]
    }
   ],
   "source": [
    "# select movies only\n",
    "movies_only = data[data[\"type\"] == \"Movie\"]\n",
    "print(movies_only.head())"
   ]
  },
  {
   "cell_type": "code",
   "execution_count": 61,
   "id": "abc5b678-8f91-41cc-b48d-5a7b9f52adda",
   "metadata": {},
   "outputs": [
    {
     "name": "stdout",
     "output_type": "stream",
     "text": [
      "  show_id     type                  title         director  \\\n",
      "1      s2  TV Show          Blood & Water              NaN   \n",
      "2      s3  TV Show              Ganglands  Julien Leclercq   \n",
      "3      s4  TV Show  Jailbirds New Orleans              NaN   \n",
      "4      s5  TV Show           Kota Factory              NaN   \n",
      "5      s6  TV Show          Midnight Mass    Mike Flanagan   \n",
      "\n",
      "                                                cast       country  \\\n",
      "1  Ama Qamata, Khosi Ngema, Gail Mabalane, Thaban...  South Africa   \n",
      "2  Sami Bouajila, Tracy Gotoas, Samuel Jouy, Nabi...           NaN   \n",
      "3                                                NaN           NaN   \n",
      "4  Mayur More, Jitendra Kumar, Ranjan Raj, Alam K...         India   \n",
      "5  Kate Siegel, Zach Gilford, Hamish Linklater, H...           NaN   \n",
      "\n",
      "           date_added  release_year rating   duration  \\\n",
      "1  September 24, 2021          2021  TV-MA  2 Seasons   \n",
      "2  September 24, 2021          2021  TV-MA   1 Season   \n",
      "3  September 24, 2021          2021  TV-MA   1 Season   \n",
      "4  September 24, 2021          2021  TV-MA  2 Seasons   \n",
      "5  September 24, 2021          2021  TV-MA   1 Season   \n",
      "\n",
      "                                           listed_in  \\\n",
      "1    International TV Shows, TV Dramas, TV Mysteries   \n",
      "2  Crime TV Shows, International TV Shows, TV Act...   \n",
      "3                             Docuseries, Reality TV   \n",
      "4  International TV Shows, Romantic TV Shows, TV ...   \n",
      "5                 TV Dramas, TV Horror, TV Mysteries   \n",
      "\n",
      "                                         description  \n",
      "1  After crossing paths at a party, a Cape Town t...  \n",
      "2  To protect his family from a powerful drug lor...  \n",
      "3  Feuds, flirtations and toilet talk go down amo...  \n",
      "4  In a city of coaching centers known to train I...  \n",
      "5  The arrival of a charismatic young priest brin...  \n"
     ]
    }
   ],
   "source": [
    "# Filtering TV shows released after 2015\n",
    "tv_shows = data[(data[\"type\"] == \"TV Show\") & (data[\"release_year\"] > 2015)]\n",
    "print(tv_shows.head())"
   ]
  },
  {
   "cell_type": "code",
   "execution_count": 62,
   "id": "39ac32fb-d1df-47e3-abd8-c2c9a8632344",
   "metadata": {},
   "outputs": [
    {
     "name": "stdout",
     "output_type": "stream",
     "text": [
      "  show_id     type                  title         director  \\\n",
      "0      s1    Movie   Dick Johnson Is Dead  Kirsten Johnson   \n",
      "1      s2  TV Show          Blood & Water              NaN   \n",
      "2      s3  TV Show              Ganglands  Julien Leclercq   \n",
      "3      s4  TV Show  Jailbirds New Orleans              NaN   \n",
      "4      s5  TV Show           Kota Factory              NaN   \n",
      "\n",
      "                                                cast        country  \\\n",
      "0                                                NaN  United States   \n",
      "1  Ama Qamata, Khosi Ngema, Gail Mabalane, Thaban...   South Africa   \n",
      "2  Sami Bouajila, Tracy Gotoas, Samuel Jouy, Nabi...            NaN   \n",
      "3                                                NaN            NaN   \n",
      "4  Mayur More, Jitendra Kumar, Ranjan Raj, Alam K...          India   \n",
      "\n",
      "           date_added  release_year rating   duration  \\\n",
      "0  September 25, 2021          2020  PG-13     90 min   \n",
      "1  September 24, 2021          2021  TV-MA  2 Seasons   \n",
      "2  September 24, 2021          2021  TV-MA   1 Season   \n",
      "3  September 24, 2021          2021  TV-MA   1 Season   \n",
      "4  September 24, 2021          2021  TV-MA  2 Seasons   \n",
      "\n",
      "                                           listed_in  \\\n",
      "0                                      Documentaries   \n",
      "1    International TV Shows, TV Dramas, TV Mysteries   \n",
      "2  Crime TV Shows, International TV Shows, TV Act...   \n",
      "3                             Docuseries, Reality TV   \n",
      "4  International TV Shows, Romantic TV Shows, TV ...   \n",
      "\n",
      "                                         description  \n",
      "0  As her father nears the end of his life, filmm...  \n",
      "1  After crossing paths at a party, a Cape Town t...  \n",
      "2  To protect his family from a powerful drug lor...  \n",
      "3  Feuds, flirtations and toilet talk go down amo...  \n",
      "4  In a city of coaching centers known to train I...  \n"
     ]
    }
   ],
   "source": [
    "# Selecting rows by integer location\n",
    "print(data.iloc[0:5])"
   ]
  },
  {
   "cell_type": "code",
   "execution_count": 63,
   "id": "f06e0655-997c-4346-976a-42d14104993c",
   "metadata": {},
   "outputs": [
    {
     "name": "stdout",
     "output_type": "stream",
     "text": [
      "  show_id     type                  title         director  \\\n",
      "0      s1    Movie   Dick Johnson Is Dead  Kirsten Johnson   \n",
      "1      s2  TV Show          Blood & Water              NaN   \n",
      "2      s3  TV Show              Ganglands  Julien Leclercq   \n",
      "3      s4  TV Show  Jailbirds New Orleans              NaN   \n",
      "4      s5  TV Show           Kota Factory              NaN   \n",
      "\n",
      "                                                cast        country  \\\n",
      "0                                                NaN  United States   \n",
      "1  Ama Qamata, Khosi Ngema, Gail Mabalane, Thaban...   South Africa   \n",
      "2  Sami Bouajila, Tracy Gotoas, Samuel Jouy, Nabi...            NaN   \n",
      "3                                                NaN            NaN   \n",
      "4  Mayur More, Jitendra Kumar, Ranjan Raj, Alam K...          India   \n",
      "\n",
      "           date_added  release_year rating   duration  \\\n",
      "0  September 25, 2021          2020  PG-13     90 min   \n",
      "1  September 24, 2021          2021  TV-MA  2 Seasons   \n",
      "2  September 24, 2021          2021  TV-MA   1 Season   \n",
      "3  September 24, 2021          2021  TV-MA   1 Season   \n",
      "4  September 24, 2021          2021  TV-MA  2 Seasons   \n",
      "\n",
      "                                           listed_in  \\\n",
      "0                                      Documentaries   \n",
      "1    International TV Shows, TV Dramas, TV Mysteries   \n",
      "2  Crime TV Shows, International TV Shows, TV Act...   \n",
      "3                             Docuseries, Reality TV   \n",
      "4  International TV Shows, Romantic TV Shows, TV ...   \n",
      "\n",
      "                                         description  rating_value  \n",
      "0  As her father nears the end of his life, filmm...            10  \n",
      "1  After crossing paths at a party, a Cape Town t...            10  \n",
      "2  To protect his family from a powerful drug lor...            10  \n",
      "3  Feuds, flirtations and toilet talk go down amo...            10  \n",
      "4  In a city of coaching centers known to train I...            10  \n"
     ]
    }
   ],
   "source": [
    "# Adding a new column with dummy values for rating out of 10\n",
    "data[\"rating_value\"] = 10\n",
    "print(data.head())"
   ]
  },
  {
   "cell_type": "code",
   "execution_count": 70,
   "id": "80290dea-fc5b-45f0-9735-126e9777778a",
   "metadata": {},
   "outputs": [
    {
     "name": "stdout",
     "output_type": "stream",
     "text": [
      "                   title            title_upper\n",
      "0   Dick Johnson Is Dead   DICK JOHNSON IS DEAD\n",
      "1          Blood & Water          BLOOD & WATER\n",
      "2              Ganglands              GANGLANDS\n",
      "3  Jailbirds New Orleans  JAILBIRDS NEW ORLEANS\n",
      "4           Kota Factory           KOTA FACTORY\n"
     ]
    }
   ],
   "source": [
    "# Convert all titles to uppercase\n",
    "data[\"title_upper\"] = data[\"title\"].apply(lambda x: x.upper())\n",
    "print(data[[\"title\",\"title_upper\"]].head())"
   ]
  },
  {
   "cell_type": "code",
   "execution_count": 68,
   "id": "fa5f729f-00b6-4338-818d-7a314ca3ff95",
   "metadata": {},
   "outputs": [
    {
     "name": "stdout",
     "output_type": "stream",
     "text": [
      "   show_id     type                  title  \\\n",
      "1       s2  TV Show          Blood & Water   \n",
      "2       s3  TV Show              Ganglands   \n",
      "3       s4  TV Show  Jailbirds New Orleans   \n",
      "31     s32  TV Show     Chicago Party Aunt   \n",
      "30     s31    Movie        Ankahi Kahaniya   \n",
      "\n",
      "                                             director  \\\n",
      "1                                                 NaN   \n",
      "2                                     Julien Leclercq   \n",
      "3                                                 NaN   \n",
      "31                                                NaN   \n",
      "30  Ashwiny Iyer Tiwari, Abhishek Chaubey, Saket C...   \n",
      "\n",
      "                                                 cast       country  \\\n",
      "1   Ama Qamata, Khosi Ngema, Gail Mabalane, Thaban...  South Africa   \n",
      "2   Sami Bouajila, Tracy Gotoas, Samuel Jouy, Nabi...           NaN   \n",
      "3                                                 NaN           NaN   \n",
      "31  Lauren Ash, Rory O'Malley, RuPaul Charles, Jil...           NaN   \n",
      "30  Abhishek Banerjee, Rinku Rajguru, Delzad Hiwal...           NaN   \n",
      "\n",
      "            date_added  release_year rating   duration  \\\n",
      "1   September 24, 2021          2021  TV-MA  2 Seasons   \n",
      "2   September 24, 2021          2021  TV-MA   1 Season   \n",
      "3   September 24, 2021          2021  TV-MA   1 Season   \n",
      "31  September 17, 2021          2021  TV-MA   1 Season   \n",
      "30  September 17, 2021          2021  TV-14    111 min   \n",
      "\n",
      "                                            listed_in  \\\n",
      "1     International TV Shows, TV Dramas, TV Mysteries   \n",
      "2   Crime TV Shows, International TV Shows, TV Act...   \n",
      "3                              Docuseries, Reality TV   \n",
      "31                                        TV Comedies   \n",
      "30   Dramas, Independent Movies, International Movies   \n",
      "\n",
      "                                          description  rating_value  \\\n",
      "1   After crossing paths at a party, a Cape Town t...            10   \n",
      "2   To protect his family from a powerful drug lor...            10   \n",
      "3   Feuds, flirtations and toilet talk go down amo...            10   \n",
      "31  Chicago Party Aunt Diane is an idolized troubl...            10   \n",
      "30  As big city life buzzes around them, lonely so...            10   \n",
      "\n",
      "              title_upper  \n",
      "1           BLOOD & WATER  \n",
      "2               GANGLANDS  \n",
      "3   JAILBIRDS NEW ORLEANS  \n",
      "31     CHICAGO PARTY AUNT  \n",
      "30        ANKAHI KAHANIYA  \n"
     ]
    }
   ],
   "source": [
    "#Sorting by release year\n",
    "sorted_data = data.sort_values(by=\"release_year\",ascending=False)\n",
    "print(sorted_data.head())"
   ]
  },
  {
   "cell_type": "code",
   "execution_count": 72,
   "id": "359a972d-0ce6-4392-9a37-a73dc1fa8e98",
   "metadata": {},
   "outputs": [
    {
     "name": "stdout",
     "output_type": "stream",
     "text": [
      "                   title  release_year  year_rank\n",
      "0   Dick Johnson Is Dead          2020      593.0\n",
      "1          Blood & Water          2021        1.0\n",
      "2              Ganglands          2021        1.0\n",
      "3  Jailbirds New Orleans          2021        1.0\n",
      "4           Kota Factory          2021        1.0\n"
     ]
    }
   ],
   "source": [
    "# Ranking based on release year\n",
    "data[\"year_rank\"] = data[\"release_year\"].rank(method=\"min\",ascending=False)\n",
    "print(data[[\"title\", \"release_year\",\"year_rank\"]].head())"
   ]
  },
  {
   "cell_type": "code",
   "execution_count": 73,
   "id": "a28bb174-50e0-4f35-9900-3db69252a1d1",
   "metadata": {},
   "outputs": [
    {
     "name": "stdout",
     "output_type": "stream",
     "text": [
      "Empty DataFrame\n",
      "Columns: [show_id, type, title, director, cast, country, date_added, release_year, rating, duration, listed_in, description, rating_value, title_upper, year_rank]\n",
      "Index: []\n"
     ]
    }
   ],
   "source": [
    "# Check for duplicates\n",
    "duplicates = data[data.duplicated(subset=[\"title\"],keep=False)]\n",
    "print(duplicates)"
   ]
  },
  {
   "cell_type": "code",
   "execution_count": 74,
   "id": "9d6abddf-2a99-424b-a7bf-75561987cafd",
   "metadata": {},
   "outputs": [
    {
     "name": "stdout",
     "output_type": "stream",
     "text": [
      "              release_year  rating_value\n",
      "release_year           1.0           NaN\n",
      "rating_value           NaN           NaN\n"
     ]
    }
   ],
   "source": [
    "#  Correlation example (rating_values is artifical here)\n",
    "print(data[[\"release_year\",\"rating_value\"]].corr())"
   ]
  },
  {
   "cell_type": "code",
   "execution_count": 79,
   "id": "2084bdff-fe87-476c-aeb8-7d9aaa0c72bc",
   "metadata": {},
   "outputs": [
    {
     "name": "stdout",
     "output_type": "stream",
     "text": [
      "['Movie' 'TV Show']\n",
      "country\n",
      "United States     2818\n",
      "India              972\n",
      "United Kingdom     419\n",
      "Japan              245\n",
      "South Korea        199\n",
      "Name: count, dtype: int64\n",
      "0    True\n",
      "1    True\n",
      "2    True\n",
      "3    True\n",
      "4    True\n",
      "Name: rating, dtype: bool\n"
     ]
    }
   ],
   "source": [
    "# count unique values\n",
    "print(data[\"type\"].unique())\n",
    "# Count occurance\n",
    "print(data[\"country\"].value_counts().head())\n",
    "# check membership\n",
    "print(data[\"rating\"].isin([\"TV-MA\",\"PG-13\"]).head())"
   ]
  },
  {
   "cell_type": "code",
   "execution_count": 80,
   "id": "16ee139d-3964-4d4b-8e86-f38bdce5c1e6",
   "metadata": {},
   "outputs": [
    {
     "name": "stdout",
     "output_type": "stream",
     "text": [
      "       release_year  rating_value    year_rank\n",
      "count   8807.000000        8807.0  8807.000000\n",
      "mean    2014.180198          10.0  4049.580674\n",
      "std        8.819312           0.0  2681.752234\n",
      "min     1925.000000          10.0     1.000000\n",
      "25%     2013.000000          10.0  1546.000000\n",
      "50%     2017.000000          10.0  3723.000000\n",
      "75%     2019.000000          10.0  6569.000000\n",
      "max     2021.000000          10.0  8807.000000\n"
     ]
    }
   ],
   "source": [
    "# getting basic statistical information\n",
    "print(data.describe())"
   ]
  },
  {
   "cell_type": "code",
   "execution_count": 78,
   "id": "d638142b-0d16-4b09-a4b9-6de9dd5bebb5",
   "metadata": {},
   "outputs": [
    {
     "name": "stdout",
     "output_type": "stream",
     "text": [
      "Data analysis on Netflix dataset using pandas is successfully completed!\n"
     ]
    }
   ],
   "source": [
    "print(\"Dta analysis on Netflix dataset using pandas is successfully completed!\")"
   ]
  },
  {
   "cell_type": "code",
   "execution_count": null,
   "id": "4a57560c-49eb-48b7-9ca8-c2113138b945",
   "metadata": {},
   "outputs": [],
   "source": []
  }
 ],
 "metadata": {
  "kernelspec": {
   "display_name": "Python 3 (ipykernel)",
   "language": "python",
   "name": "python3"
  },
  "language_info": {
   "codemirror_mode": {
    "name": "ipython",
    "version": 3
   },
   "file_extension": ".py",
   "mimetype": "text/x-python",
   "name": "python",
   "nbconvert_exporter": "python",
   "pygments_lexer": "ipython3",
   "version": "3.13.1"
  }
 },
 "nbformat": 4,
 "nbformat_minor": 5
}
