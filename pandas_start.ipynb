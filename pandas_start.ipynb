{
 "cells": [
  {
   "cell_type": "code",
   "execution_count": 2,
   "id": "782c014d-11b6-495c-98a3-89e6e9fb1318",
   "metadata": {},
   "outputs": [],
   "source": [
    "import pandas as pd \n",
    "import numpy as np\n",
    "# games_data = pd.read_csv('D:/Coding/Python/Projects/DataAnalysis/Datasets/all_video_games(cleaned).csv/all_video_games(cleaned).csv')\n",
    "# games_data[['Genres','Title']].head(5)"
   ]
  },
  {
   "cell_type": "markdown",
   "id": "2debab07-d793-4b7f-af15-ba856bb30684",
   "metadata": {},
   "source": [
    "# Series"
   ]
  },
  {
   "cell_type": "code",
   "execution_count": 3,
   "id": "329cf80d-9834-493a-a159-1e34893925f8",
   "metadata": {},
   "outputs": [
    {
     "data": {
      "text/plain": [
       "a    1\n",
       "b    2\n",
       "c    3\n",
       "dtype: int64"
      ]
     },
     "execution_count": 3,
     "metadata": {},
     "output_type": "execute_result"
    }
   ],
   "source": [
    "obj = pd.Series([1,2,3], index=['a','b','c'])\n",
    "obj"
   ]
  },
  {
   "cell_type": "code",
   "execution_count": 4,
   "id": "cb73e997-edd8-454c-a486-39bcd7904aca",
   "metadata": {},
   "outputs": [
    {
     "data": {
      "text/plain": [
       "np.int64(3)"
      ]
     },
     "execution_count": 4,
     "metadata": {},
     "output_type": "execute_result"
    }
   ],
   "source": [
    "obj['c']"
   ]
  },
  {
   "cell_type": "code",
   "execution_count": 5,
   "id": "69bd9f9b-c063-4890-99e1-47add08f3cd7",
   "metadata": {},
   "outputs": [
    {
     "data": {
      "text/plain": [
       "Number\n",
       "Minecraft    100\n",
       "MLBB         300\n",
       "LOL          200\n",
       "Name: Games, dtype: int64"
      ]
     },
     "execution_count": 5,
     "metadata": {},
     "output_type": "execute_result"
    }
   ],
   "source": [
    "data = {'Minecraft': 100, 'LOL': 200, 'MLBB': 300}\n",
    "data_series = pd.Series(data, index=['Minecraft','MLBB','LOL'])\n",
    "data_series.name = 'Games'\n",
    "data_series.index.name = 'Number'\n",
    "data_series "
   ]
  },
  {
   "cell_type": "code",
   "execution_count": 6,
   "id": "b6540df0-893c-49ee-8261-f998012e09c4",
   "metadata": {},
   "outputs": [],
   "source": [
    "edit = pd.Series([100,200,101,205,300,104])\n",
    "# df['population'] = edit\n",
    "# dfdf['country'] = ['UK','Spain','USA','UK', '', '']\n",
    "# df"
   ]
  },
  {
   "cell_type": "code",
   "execution_count": 7,
   "id": "2268caa1-0329-44e7-b298-4e862557ae61",
   "metadata": {},
   "outputs": [
    {
     "data": {
      "text/plain": [
       "array([False, False, False, False,  True])"
      ]
     },
     "execution_count": 7,
     "metadata": {},
     "output_type": "execute_result"
    }
   ],
   "source": [
    "ind1 = pd.Index([1,2,3,4,5])\n",
    "ind2 = pd.Index(['a','b','c','d',5])\n",
    "ind1.isin(ind2)"
   ]
  },
  {
   "cell_type": "code",
   "execution_count": 8,
   "id": "6c279360-27d5-450c-b44c-fd8b921bfbdc",
   "metadata": {},
   "outputs": [
    {
     "data": {
      "text/plain": [
       "a    0\n",
       "b    1\n",
       "c    2\n",
       "d    3\n",
       "e    4\n",
       "f    5\n",
       "g    6\n",
       "dtype: int64"
      ]
     },
     "execution_count": 8,
     "metadata": {},
     "output_type": "execute_result"
    }
   ],
   "source": [
    "import numpy as np\n",
    "obj = pd.Series(np.arange(7), index=['a','b','c','d','e','f','g'])\n",
    "obj"
   ]
  },
  {
   "cell_type": "code",
   "execution_count": 9,
   "id": "41509ea9-1045-4019-8a3d-7395a3cb1e72",
   "metadata": {},
   "outputs": [
    {
     "data": {
      "text/plain": [
       "b    1\n",
       "c    2\n",
       "d    3\n",
       "dtype: int64"
      ]
     },
     "execution_count": 9,
     "metadata": {},
     "output_type": "execute_result"
    }
   ],
   "source": [
    "obj[1:4]"
   ]
  },
  {
   "cell_type": "code",
   "execution_count": 10,
   "id": "e4913d96-e14c-40f2-b8f7-1bd9309f4b06",
   "metadata": {},
   "outputs": [
    {
     "data": {
      "text/plain": [
       "a    0\n",
       "b    1\n",
       "dtype: int64"
      ]
     },
     "execution_count": 10,
     "metadata": {},
     "output_type": "execute_result"
    }
   ],
   "source": [
    "obj[obj < 2]"
   ]
  },
  {
   "cell_type": "code",
   "execution_count": null,
   "id": "05cf44c4-d898-418c-8f43-e1f52e013547",
   "metadata": {},
   "outputs": [],
   "source": []
  }
 ],
 "metadata": {
  "kernelspec": {
   "display_name": "Python 3 (ipykernel)",
   "language": "python",
   "name": "python3"
  },
  "language_info": {
   "codemirror_mode": {
    "name": "ipython",
    "version": 3
   },
   "file_extension": ".py",
   "mimetype": "text/x-python",
   "name": "python",
   "nbconvert_exporter": "python",
   "pygments_lexer": "ipython3",
   "version": "3.13.1"
  }
 },
 "nbformat": 4,
 "nbformat_minor": 5
}
